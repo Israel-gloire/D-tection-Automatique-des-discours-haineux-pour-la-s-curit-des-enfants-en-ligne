{
 "cells": [
  {
   "cell_type": "code",
   "execution_count": null,
   "id": "069076c9-56d9-41fa-86cc-619ba4d9d16a",
   "metadata": {},
   "outputs": [],
   "source": []
  }
 ],
 "metadata": {
  "kernelspec": {
   "display_name": "Python 3 (ipykernel)",
   "language": "python",
   "name": "python3"
  },
  "language_info": {
   "codemirror_mode": {
    "name": "ipython",
    "version": 3
   },
   "file_extension": ".py",
   "mimetype": "text/x-python",
   "name": "python",
   "nbconvert_exporter": "python",
   "pygments_lexer": "ipython3",
   "version": "3.12.7"
  }
 },
 "nbformat": 4,
 "nbformat_minor": 5
}
